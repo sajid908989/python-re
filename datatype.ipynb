{
 "cells": [
  {
   "cell_type": "code",
   "execution_count": null,
   "metadata": {},
   "outputs": [],
   "source": []
  },
  {
   "cell_type": "code",
   "execution_count": 2,
   "metadata": {},
   "outputs": [
    {
     "name": "stdout",
     "output_type": "stream",
     "text": [
      "was the color of peach pit. I saw\n",
      "my sister in her mahogany casket, \n",
      "her color\n",
      "was not quite—she had high-\n",
      "lighter on her—as a spirit would—her\n",
      "cheeks and nose. Would I never see her\n",
      "again? It was October and the sky in flames.\n",
      "Also: Ashes. Her ashes.\n",
      "I fell all down.\n",
      "The casket was not centered and\n",
      "knocked (was she knocking?) against the hearse\n",
      "door. I fell all down (as an echo. All down)\n",
      "In black wool, my body so near\n",
      "hers in the cuff of wintering air.\n"
     ]
    }
   ],
   "source": [
    "poem = '''was the color of peach pit. I saw\n",
    "my sister in her mahogany casket, \n",
    "her color\n",
    "was not quite—she had high-\n",
    "lighter on her—as a spirit would—her\n",
    "cheeks and nose. Would I never see her\n",
    "again? It was October and the sky in flames.\n",
    "Also: Ashes. Her ashes.\n",
    "I fell all down.\n",
    "The casket was not centered and\n",
    "knocked (was she knocking?) against the hearse\n",
    "door. I fell all down (as an echo. All down)\n",
    "In black wool, my body so near\n",
    "hers in the cuff of wintering air.'''\n",
    "print(poem)"
   ]
  },
  {
   "cell_type": "code",
   "execution_count": 3,
   "metadata": {},
   "outputs": [
    {
     "name": "stdout",
     "output_type": "stream",
     "text": [
      "['apple', 'guaua', 'mango']\n"
     ]
    }
   ],
   "source": [
    "fruits = ['apple','guaua','mango']\n",
    "print(fruits)"
   ]
  },
  {
   "cell_type": "code",
   "execution_count": 4,
   "metadata": {},
   "outputs": [
    {
     "name": "stdout",
     "output_type": "stream",
     "text": [
      "('apple', 'guaua', 'cherry', 'mango')\n"
     ]
    }
   ],
   "source": [
    "fruits = ('apple','guaua', 'cherry','mango')\n",
    "print(fruits)"
   ]
  },
  {
   "cell_type": "code",
   "execution_count": 7,
   "metadata": {},
   "outputs": [
    {
     "name": "stdout",
     "output_type": "stream",
     "text": [
      "{'guaua', 'cherry', 'apple', 'mango'}\n"
     ]
    }
   ],
   "source": [
    "fruits = {'apple','guaua', 'cherry','mango', 'apple','mango'} #nice\n",
    "print(fruits)"
   ]
  },
  {
   "cell_type": "code",
   "execution_count": 10,
   "metadata": {},
   "outputs": [
    {
     "name": "stdout",
     "output_type": "stream",
     "text": [
      "{'Name': 'Aarav Kumar', 'Age': 15, 'Grade': 10}\n"
     ]
    }
   ],
   "source": [
    "student = {\n",
    "    \"Name\": \"Aarav Kumar\",\n",
    "    \"Age\"      : 15,\n",
    "    \"Grade\"   : 10\n",
    "}\n",
    "print(student)  "
   ]
  },
  {
   "cell_type": "code",
   "execution_count": 11,
   "metadata": {},
   "outputs": [
    {
     "data": {
      "text/plain": [
       "dict"
      ]
     },
     "execution_count": 11,
     "metadata": {},
     "output_type": "execute_result"
    }
   ],
   "source": [
    "# to  check the datatype of any variable.\n",
    "\n",
    "type(student)\n"
   ]
  },
  {
   "cell_type": "markdown",
   "metadata": {},
   "source": [
    "type casting \n",
    "####### it is process to convert the datatype of any variable into another datatype \n"
   ]
  },
  {
   "cell_type": "code",
   "execution_count": 14,
   "metadata": {},
   "outputs": [
    {
     "data": {
      "text/plain": [
       "int"
      ]
     },
     "execution_count": 14,
     "metadata": {},
     "output_type": "execute_result"
    }
   ],
   "source": [
    "a= 10\n",
    "type(a)"
   ]
  },
  {
   "cell_type": "code",
   "execution_count": 15,
   "metadata": {},
   "outputs": [
    {
     "data": {
      "text/plain": [
       "str"
      ]
     },
     "execution_count": 15,
     "metadata": {},
     "output_type": "execute_result"
    }
   ],
   "source": [
    "a= 10\n",
    "b= str(a)\n",
    "type(b)"
   ]
  },
  {
   "cell_type": "code",
   "execution_count": 17,
   "metadata": {},
   "outputs": [
    {
     "name": "stdout",
     "output_type": "stream",
     "text": [
      "889\n"
     ]
    }
   ],
   "source": [
    "a = int(input('enter a number:'))\n",
    "print(a)"
   ]
  },
  {
   "cell_type": "code",
   "execution_count": 18,
   "metadata": {},
   "outputs": [
    {
     "data": {
      "text/plain": [
       "int"
      ]
     },
     "execution_count": 18,
     "metadata": {},
     "output_type": "execute_result"
    }
   ],
   "source": [
    "type(a)"
   ]
  },
  {
   "cell_type": "code",
   "execution_count": 13,
   "metadata": {},
   "outputs": [
    {
     "name": "stdout",
     "output_type": "stream",
     "text": [
      "113.85000000000001\n"
     ]
    }
   ],
   "source": [
    "#take a basic salary of an employee from user and calculate the following on it-\n",
    "#tda 10 %\n",
    "#hra 5%\n",
    "#at last calculate the net salary of an employee\n",
    "\n",
    "salary = int(input(\"Enter the basic salary of the employee: \"))\n",
    "\n",
    "tda = 10/100* salary  \n",
    "hra = 5/100* salary  \n",
    "\n",
    "#Calculate net salary\n",
    "net_salary = salary + tda + hra\n",
    "print(net_salary)"
   ]
  },
  {
   "cell_type": "code",
   "execution_count": null,
   "metadata": {},
   "outputs": [
    {
     "name": "stdout",
     "output_type": "stream",
     "text": [
      "200.96\n"
     ]
    }
   ],
   "source": [
    "#calculate area of a circle\n",
    "\n",
    "radius = 8\n",
    "area = 3.14 * radius **2\n",
    "print(area)\n"
   ]
  }
 ],
 "metadata": {
  "kernelspec": {
   "display_name": "base",
   "language": "python",
   "name": "python3"
  },
  "language_info": {
   "codemirror_mode": {
    "name": "ipython",
    "version": 3
   },
   "file_extension": ".py",
   "mimetype": "text/x-python",
   "name": "python",
   "nbconvert_exporter": "python",
   "pygments_lexer": "ipython3",
   "version": "3.12.7"
  }
 },
 "nbformat": 4,
 "nbformat_minor": 2
}
