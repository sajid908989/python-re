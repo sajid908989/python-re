{
 "cells": [
  {
   "cell_type": "code",
   "execution_count": 66,
   "metadata": {},
   "outputs": [
    {
     "ename": "TypeError",
     "evalue": "'NoneType' object is not callable",
     "output_type": "error",
     "traceback": [
      "\u001b[1;31m---------------------------------------------------------------------------\u001b[0m",
      "\u001b[1;31mTypeError\u001b[0m                                 Traceback (most recent call last)",
      "Cell \u001b[1;32mIn[66], line 1\u001b[0m\n\u001b[1;32m----> 1\u001b[0m marks \u001b[38;5;241m=\u001b[39m \u001b[38;5;28mint\u001b[39m(\u001b[38;5;28minput\u001b[39m(\u001b[38;5;124m'\u001b[39m\u001b[38;5;124menter your marks:\u001b[39m\u001b[38;5;124m'\u001b[39m))\n\u001b[0;32m      2\u001b[0m \u001b[38;5;28;01mif\u001b[39;00m marks\u001b[38;5;241m>\u001b[39m\u001b[38;5;241m=\u001b[39m\u001b[38;5;241m98\u001b[39m:\n\u001b[0;32m      3\u001b[0m     \u001b[38;5;28mprint\u001b[39m(\u001b[38;5;124m\"\u001b[39m\u001b[38;5;124mA+\u001b[39m\u001b[38;5;124m\"\u001b[39m)\n",
      "\u001b[1;31mTypeError\u001b[0m: 'NoneType' object is not callable"
     ]
    }
   ],
   "source": [
    "marks = int(input('enter your marks:'))\n",
    "if marks>=98:\n",
    "    print(\"A+\")\n",
    "if marks>= 78:\n",
    "    print(\"B+\")  "
   ]
  },
  {
   "cell_type": "code",
   "execution_count": null,
   "metadata": {},
   "outputs": [
    {
     "name": "stdout",
     "output_type": "stream",
     "text": [
      "fail\n"
     ]
    }
   ],
   "source": [
    "marks = int(input('enter your marks:'))\n",
    "if marks>=98:\n",
    "    print(\"A+\")\n",
    "elif marks>= 78:\n",
    "    print(\"B+\") \n",
    "elif marks>= 68:\n",
    "    print(\"c+\")   \n",
    "else:\n",
    "    marks >= 45\n",
    "    print(\"fail\") \n",
    "    "
   ]
  },
  {
   "cell_type": "code",
   "execution_count": null,
   "metadata": {},
   "outputs": [
    {
     "name": "stdout",
     "output_type": "stream",
     "text": [
      " person in eligible\n"
     ]
    }
   ],
   "source": [
    "#wap to find if a person is eligible for dl or not \n",
    "\n",
    "age = input(' inter your age')\n",
    "age= int(age)\n",
    "if(age>= 18):\n",
    " print(\" person in eligible\")\n",
    "else: \n",
    "   print('person in not eligible')"
   ]
  },
  {
   "cell_type": "code",
   "execution_count": null,
   "metadata": {},
   "outputs": [
    {
     "name": "stdout",
     "output_type": "stream",
     "text": [
      "positive\n"
     ]
    }
   ],
   "source": [
    "#check whether a number or not \n",
    " \n",
    "\n",
    "num= input('enter a number')\n",
    "num= int(num)\n",
    "if (num>0):\n",
    "      print ('positive')\n",
    "else:\n",
    "       print ('negative')"
   ]
  },
  {
   "cell_type": "code",
   "execution_count": null,
   "metadata": {},
   "outputs": [
    {
     "name": "stdout",
     "output_type": "stream",
     "text": [
      "6 is even\n"
     ]
    }
   ],
   "source": [
    "#check whether a number is even or odd\n",
    "\n",
    "\n",
    "num= input('enter a number')\n",
    "num= int(num)\n",
    "if (num % 2 == 0):\n",
    "    print(num,\"is even\")\n",
    "else:\n",
    "    print(num, \"is odd\")"
   ]
  },
  {
   "cell_type": "code",
   "execution_count": null,
   "metadata": {},
   "outputs": [
    {
     "name": "stdout",
     "output_type": "stream",
     "text": [
      "sclene triangel\n"
     ]
    }
   ],
   "source": [
    "#check whether a triangle is an equilatral triangle or iscoselec triangle . print the message according \n",
    "\n",
    "s1= 34\n",
    "s2= 88\n",
    "s3= 80\n",
    " \n",
    "if s1 == s2 == 32:\n",
    "    print('equilateral triangle')\n",
    "elif s1 == s2 or s2 == s3 or s1 == s3:\n",
    "    print('isosceles triangel')    \n",
    "else:\n",
    "    print('sclene triangel')"
   ]
  },
  {
   "cell_type": "code",
   "execution_count": 1,
   "metadata": {},
   "outputs": [
    {
     "name": "stdout",
     "output_type": "stream",
     "text": [
      "g is not a vowel\n"
     ]
    }
   ],
   "source": [
    "#4. Check whether a character entered by user is a vowel or not\n",
    "\n",
    "character  = input(\"Enter a character:\")\n",
    "if character in ('a','i','o','u','e'):\n",
    "    print(character , \"is a vowel\")\n",
    "else:\n",
    "    print(character, \"is not a vowel\")\n"
   ]
  },
  {
   "cell_type": "code",
   "execution_count": 9,
   "metadata": {},
   "outputs": [
    {
     "name": "stdout",
     "output_type": "stream",
     "text": [
      "password must be between 8 and 15 characters\n"
     ]
    }
   ],
   "source": [
    "username = input(\"enter your name\")\n",
    "email = input(\"enter your email:\")\n",
    "password = input(\"enter the password\")\n",
    "cpass = input(\"enter the cpass \")\n",
    "if len(username)>5 and len(username)<15:\n",
    "    if '@' in email and len(email)>10:\n",
    "        if len(password)>8 and len(password)<15:\n",
    "            if password == cpass:\n",
    "                  print('ragistration successful')\n",
    "            else:\n",
    "                print('password dose not match ')\n",
    "        else:\n",
    "            print('password must be between 8 and 15 characters')\n",
    "    else:\n",
    "        print('invaid email')                 \n",
    "else:\n",
    "    print('invaid username')"
   ]
  },
  {
   "cell_type": "code",
   "execution_count": null,
   "metadata": {},
   "outputs": [],
   "source": []
  }
 ],
 "metadata": {
  "kernelspec": {
   "display_name": "base",
   "language": "python",
   "name": "python3"
  },
  "language_info": {
   "codemirror_mode": {
    "name": "ipython",
    "version": 3
   },
   "file_extension": ".py",
   "mimetype": "text/x-python",
   "name": "python",
   "nbconvert_exporter": "python",
   "pygments_lexer": "ipython3",
   "version": "3.12.7"
  }
 },
 "nbformat": 4,
 "nbformat_minor": 2
}
