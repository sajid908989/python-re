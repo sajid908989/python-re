{
 "cells": [
  {
   "cell_type": "code",
   "execution_count": 2,
   "metadata": {},
   "outputs": [
    {
     "name": "stdout",
     "output_type": "stream",
     "text": [
      "zomato\n",
      "myjio\n",
      "blinkit\n",
      "facebook\n",
      "instgram\n",
      "linkedin\n",
      "uber\n",
      "telegram\n",
      "myntra\n",
      "gmail\n"
     ]
    }
   ],
   "source": [
    "apps  = ['zomato', 'myjio', 'blinkit', 'facebook', 'instgram', 'linkedin' , 'uber', 'telegram', 'myntra', 'gmail']\n",
    "for i in apps:\n",
    "    print(i)"
   ]
  },
  {
   "cell_type": "code",
   "execution_count": 5,
   "metadata": {},
   "outputs": [
    {
     "name": "stdout",
     "output_type": "stream",
     "text": [
      "zomato @ myjio @ blinkit @ facebook @ instgram @ linkedin @ uber @ telegram @ myntra @ gmail @ "
     ]
    }
   ],
   "source": [
    "apps  = ['zomato', 'myjio', 'blinkit', 'facebook', 'instgram', 'linkedin' , 'uber', 'telegram', 'myntra', 'gmail']\n",
    "for i in apps:\n",
    "    print(i, end= \" @ \")"
   ]
  },
  {
   "cell_type": "code",
   "execution_count": 16,
   "metadata": {},
   "outputs": [
    {
     "name": "stdout",
     "output_type": "stream",
     "text": [
      "telegram\n"
     ]
    }
   ],
   "source": [
    "print(apps[7])"
   ]
  },
  {
   "cell_type": "code",
   "execution_count": 1,
   "metadata": {},
   "outputs": [
    {
     "ename": "SyntaxError",
     "evalue": "invalid syntax. Perhaps you forgot a comma? (1612065757.py, line 1)",
     "output_type": "error",
     "traceback": [
      "\u001b[1;36m  Cell \u001b[1;32mIn[1], line 1\u001b[1;36m\u001b[0m\n\u001b[1;33m    print(apps[7]1)\u001b[0m\n\u001b[1;37m          ^\u001b[0m\n\u001b[1;31mSyntaxError\u001b[0m\u001b[1;31m:\u001b[0m invalid syntax. Perhaps you forgot a comma?\n"
     ]
    }
   ],
   "source": [
    "print(apps[7]1)"
   ]
  },
  {
   "cell_type": "code",
   "execution_count": 17,
   "metadata": {},
   "outputs": [
    {
     "name": "stdout",
     "output_type": "stream",
     "text": [
      "gmail\n"
     ]
    }
   ],
   "source": [
    "print(apps[-1])"
   ]
  }
 ],
 "metadata": {
  "kernelspec": {
   "display_name": "base",
   "language": "python",
   "name": "python3"
  },
  "language_info": {
   "codemirror_mode": {
    "name": "ipython",
    "version": 3
   },
   "file_extension": ".py",
   "mimetype": "text/x-python",
   "name": "python",
   "nbconvert_exporter": "python",
   "pygments_lexer": "ipython3",
   "version": "3.12.7"
  }
 },
 "nbformat": 4,
 "nbformat_minor": 2
}
